{
 "cells": [
  {
   "cell_type": "code",
   "execution_count": 5,
   "metadata": {},
   "outputs": [],
   "source": [
    "import cv2\n",
    "import face_recognition\n",
    "import numpy as np"
   ]
  },
  {
   "cell_type": "code",
   "execution_count": 7,
   "metadata": {},
   "outputs": [
    {
     "name": "stdout",
     "output_type": "stream",
     "text": [
      "(379, 468, 647, 200)\n",
      "Face distance: [0.5792767]\n",
      "Result: [0]\n",
      "Not Matched\n"
     ]
    }
   ],
   "source": [
    "imgelon=face_recognition.load_image_file('')\n",
    "imgelon=cv2.cvtColor(imgelon,cv2.COLOR_BGR2RGB)\n",
    "imgtest=face_recognition.load_image_file('')\n",
    "imgtest=cv2.cvtColor(imgtest,cv2.COLOR_BGR2RGB)\n",
    "\n",
    "faceloc=face_recognition.face_locations(imgelon)[0]\n",
    "#print(faceloc)\n",
    "encodeelon=face_recognition.face_encodings(imgelon)[0]\n",
    "cv2.rectangle(imgelon,(faceloc[3],faceloc[0]),(faceloc[1],faceloc[2]),(255,0,255),2)\n",
    "\n",
    "faceloctest=face_recognition.face_locations(imgtest)[0]\n",
    "print(faceloctest)\n",
    "encodetest=face_recognition.face_encodings(imgtest)[0]\n",
    "cv2.rectangle(imgtest,(faceloctest[3],faceloctest[0]),(faceloctest[1],faceloctest[2]),(255,0,255),2)\n",
    "\n",
    "#print(faceloc) \n",
    "\n",
    "result = face_recognition.compare_faces([encodeelon], encodetest)\n",
    "facedis = face_recognition.face_distance([encodeelon], encodetest)\n",
    "\n",
    "\n",
    "print(\"Face distance:\", facedis)\n",
    "if facedis >0.5:\n",
    "    result[0]=0\n",
    "print(\"Result:\", result)\n",
    "cv2 .putText(imgtest,f'{result} {round(facedis[0],2)}',(20,170),cv2.FONT_HERSHEY_COMPLEX,1,(0,0,255),2)\n",
    "\n",
    "\n",
    "if  result[0]:\n",
    "    print(\" matched\")\n",
    "else:\n",
    "    print(\"Not Matched\") \n",
    "#cv2.imshow('elon musk',imgelon)\n",
    "cv2.imshow('elon musk',imgtest)\n",
    "cv2.waitKey(15000)\n",
    "cv2.destroyAllWindows()"
   ]
  }
 ],
 "metadata": {
  "kernelspec": {
   "display_name": "Python 3.10.6 64-bit",
   "language": "python",
   "name": "python3"
  },
  "language_info": {
   "codemirror_mode": {
    "name": "ipython",
    "version": 3
   },
   "file_extension": ".py",
   "mimetype": "text/x-python",
   "name": "python",
   "nbconvert_exporter": "python",
   "pygments_lexer": "ipython3",
   "version": "3.10.6"
  },
  "orig_nbformat": 4,
  "vscode": {
   "interpreter": {
    "hash": "916dbcbb3f70747c44a77c7bcd40155683ae19c65e1c03b4aa3499c5328201f1"
   }
  }
 },
 "nbformat": 4,
 "nbformat_minor": 2
}
